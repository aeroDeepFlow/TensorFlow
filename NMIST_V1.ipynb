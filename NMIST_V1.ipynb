{
 "cells": [
  {
   "cell_type": "code",
   "execution_count": 18,
   "metadata": {},
   "outputs": [],
   "source": [
    "# Imports\n",
    "\n",
    "import tensorflow as tf\n",
    "import numpy as np\n",
    "import pandas as pd\n",
    "from tensorflow.keras import Model\n",
    "from tensorflow.keras.datasets import mnist\n",
    "from sklearn.preprocessing import StandardScaler\n",
    "import matplotlib.pyplot as plt\n",
    "import seaborn as sns"
   ]
  },
  {
   "cell_type": "code",
   "execution_count": 19,
   "metadata": {},
   "outputs": [
    {
     "data": {
      "text/plain": [
       "'1.14.0'"
      ]
     },
     "execution_count": 19,
     "metadata": {},
     "output_type": "execute_result"
    }
   ],
   "source": [
    "# tensorflow version\n",
    "\n",
    "tf.__version__"
   ]
  },
  {
   "cell_type": "code",
   "execution_count": 20,
   "metadata": {},
   "outputs": [],
   "source": [
    "(X_train, Y_train), (X_test, Y_test) = mnist.load_data()\n",
    "\n",
    "x_train= X_train.astype(np.float32)/255.\n",
    "x_test = X_test.astype(np.float32)/255."
   ]
  },
  {
   "cell_type": "code",
   "execution_count": 21,
   "metadata": {},
   "outputs": [
    {
     "data": {
      "image/png": "[encoded data removed]",
      "text/plain": [
       "<Figure size 432x288 with 1 Axes>"
      ]
     },
     "metadata": {
      "needs_background": "light"
     },
     "output_type": "display_data"
    }
   ],
   "source": [
    "plt.imshow(X_test[0]);"
   ]
  },
  {
   "cell_type": "code",
   "execution_count": 22,
   "metadata": {},
   "outputs": [],
   "source": [
    "learning_rate = 0.01\n",
    "epochs = 200\n",
    "batch_size = 256\n",
    "\n",
    "n_inputs = np.power(x_train.shape[1], 2)\n",
    "layers = [n_inputs, 256, 128, 64, 10]\n",
    "#layers = [n_inputs, 64, 10]"
   ]
  },
  {
   "cell_type": "code",
   "execution_count": 23,
   "metadata": {},
   "outputs": [],
   "source": [
    "x_train = x_train.reshape(-1, n_inputs)\n",
    "x_test = x_test.reshape(-1, n_inputs)\n",
    "\n",
    "y_train = pd.get_dummies(Y_train).values\n",
    "y_test = pd.get_dummies(Y_test).values"
   ]
  },
  {
   "cell_type": "code",
   "execution_count": 24,
   "metadata": {},
   "outputs": [],
   "source": [
    "X = tf.placeholder(tf.float32, [None, n_inputs])\n",
    "\n",
    "Y = tf.placeholder(tf.float32, [None, 10])"
   ]
  },
  {
   "cell_type": "code",
   "execution_count": 25,
   "metadata": {
    "scrolled": false
   },
   "outputs": [],
   "source": [
    "def init_weights(layers):\n",
    "    n_layers = len(layers)\n",
    "\n",
    "    w = {\"W\"+str(i+1): tf.Variable(tf.random_normal((layers[i], layers[i+1])), \\\n",
    "                                   name=\"W\"+str(i+1), dtype=tf.float32) \\\n",
    "                                   for i in range(n_layers-1)}\n",
    "    \n",
    "    b = {\"b\"+str(i+1): tf.Variable(tf.random_normal([1, layers[i+1]]), \\\n",
    "                                   name=\"b\"+str(i+1), dtype=tf.float32) \\\n",
    "                                   for i in range(n_layers-1)}\n",
    "    \n",
    "    return w, b\n",
    "\n",
    "weights, bias = init_weights(layers)"
   ]
  },
  {
   "cell_type": "code",
   "execution_count": 26,
   "metadata": {},
   "outputs": [],
   "source": [
    "def encoder(X, weights, bias):\n",
    "    n_layers = len(weights.keys())\n",
    "    \n",
    "    for i in range(n_layers): # tf.nn.relu is not applyed to output layer\n",
    "        X = tf.add(tf.matmul(X, weights[\"W\"+str(i+1)]), bias[\"b\"+str(i+1)])\n",
    "        if i != n_layers-1:\n",
    "            X = tf.nn.relu(X)\n",
    "        \n",
    "    return X"
   ]
  },
  {
   "cell_type": "code",
   "execution_count": 27,
   "metadata": {},
   "outputs": [],
   "source": [
    "loss = tf.reduce_mean(tf.nn.softmax_cross_entropy_with_logits_v2(labels= Y, \\\n",
    "                                                      logits=encoder(X, weights,bias)))\n",
    "\n",
    "optimizer = tf.train.AdamOptimizer(learning_rate=learning_rate)\n",
    "opt = optimizer.minimize(loss)"
   ]
  },
  {
   "cell_type": "code",
   "execution_count": 28,
   "metadata": {},
   "outputs": [],
   "source": [
    "LOSS_train = []\n",
    "LOSS_test = []\n",
    "\n",
    "with tf.Session() as sess:\n",
    "    \n",
    "    sess.run(tf.global_variables_initializer())\n",
    "    \n",
    "    for epochs in range(epochs):\n",
    "        train_index = np.random.choice(X_train.shape[0], size=batch_size)\n",
    "        test_index = np.random.choice(X_test.shape[0], size=batch_size)\n",
    "        \n",
    "        _, loss_train = sess.run([opt, loss], feed_dict={X: x_train[train_index], Y: y_train[train_index]})\n",
    "        _, loss_test = sess.run([opt, loss], feed_dict={X: x_test[test_index], Y: y_test[test_index]})\n",
    "        \n",
    "        LOSS_train.append(loss_train)\n",
    "        LOSS_test.append(loss_test)\n",
    "        \n",
    "    W_trained, b_trained = sess.run([weights, bias])\n",
    "    \n",
    "    Y_pred = sess.run(tf.arg_max(tf.nn.softmax(encoder(X, W_trained, b_trained)), 1), \\\n",
    "                      feed_dict={X: x_test})"
   ]
  },
  {
   "cell_type": "code",
   "execution_count": 29,
   "metadata": {
    "scrolled": false
   },
   "outputs": [
    {
     "data": {
      "image/png": "[encoded data removed]",
      "text/plain": [
       "<Figure size 432x288 with 1 Axes>"
      ]
     },
     "metadata": {
      "needs_background": "light"
     },
     "output_type": "display_data"
    }
   ],
   "source": [
    "l = pd.DataFrame(np.transpose([LOSS_train, LOSS_test]), columns=[\"Train\", \"Test\"])\n",
    "l.plot();"
   ]
  },
  {
   "cell_type": "code",
   "execution_count": 30,
   "metadata": {
    "scrolled": true
   },
   "outputs": [
    {
     "data": {
      "text/plain": [
       "({'W1': array([[-1.1528716 ,  0.34312117,  0.7374744 , ...,  0.18877423,\n",
       "          -1.1975651 ,  0.4394971 ],\n",
       "         [ 0.2927339 ,  0.8994163 ,  1.1965437 , ...,  0.82665855,\n",
       "           0.69303256, -0.94829166],\n",
       "         [ 1.2524223 , -1.4657584 , -1.3423458 , ...,  0.12946804,\n",
       "          -1.1662334 ,  0.17988063],\n",
       "         ...,\n",
       "         [ 1.6344516 ,  0.3334427 , -0.19318794, ..., -0.8168933 ,\n",
       "           0.30219123, -0.9914203 ],\n",
       "         [ 0.48430794,  2.5653186 , -0.03602663, ..., -1.4760014 ,\n",
       "           0.20263349,  1.2539982 ],\n",
       "         [-1.4826049 ,  0.04173022,  0.15835321, ..., -0.6490012 ,\n",
       "          -1.0214584 , -0.17117436]], dtype=float32),\n",
       "  'W2': array([[-0.5522316 , -2.2886357 , -2.7004607 , ...,  0.8122453 ,\n",
       "          -0.5104504 , -0.87982845],\n",
       "         [ 1.3027982 , -0.5018795 , -1.8420142 , ..., -0.08669739,\n",
       "          -0.03077392,  0.37302864],\n",
       "         [-0.40826058, -0.5591485 ,  0.3148305 , ..., -1.6157079 ,\n",
       "          -0.65671504, -2.14243   ],\n",
       "         ...,\n",
       "         [ 0.83880323,  0.39031997,  0.33452958, ...,  1.8161074 ,\n",
       "           0.18525937,  2.5802593 ],\n",
       "         [-1.5935832 ,  0.38234118, -1.086909  , ...,  1.076789  ,\n",
       "           0.99194103, -0.4706149 ],\n",
       "         [-1.6221138 ,  1.7186798 , -1.3205072 , ..., -0.43441877,\n",
       "          -0.5876439 ,  0.92408574]], dtype=float32),\n",
       "  'W3': array([[-0.3568975 , -1.0029751 , -0.31346625, ...,  0.21915153,\n",
       "          -0.07426693,  0.19643459],\n",
       "         [-0.29910675, -0.87329036,  0.8459222 , ...,  0.44441742,\n",
       "           2.370236  , -0.8492915 ],\n",
       "         [-1.4013109 ,  0.90801823, -1.6975124 , ...,  0.628416  ,\n",
       "           0.45928204, -1.1913303 ],\n",
       "         ...,\n",
       "         [ 0.49718627, -0.33976474, -0.7352283 , ..., -2.2605472 ,\n",
       "          -0.44424507,  0.63431686],\n",
       "         [ 0.30753803, -0.13919774,  0.42377916, ..., -0.28424087,\n",
       "          -1.5860286 , -0.14668384],\n",
       "         [ 1.1818913 , -1.7140483 ,  0.66199225, ...,  0.6285744 ,\n",
       "           0.5895454 ,  0.11683096]], dtype=float32),\n",
       "  'W4': array([[-0.9456246 ,  0.89432824, -1.2790865 ,  1.6522202 ,  0.6309438 ,\n",
       "           0.75366306,  1.8286109 ,  0.42132336, -1.0714023 , -0.32080504],\n",
       "         [-1.2336788 , -0.82422704,  0.28867108, -0.24729185,  0.38755652,\n",
       "          -0.09970321, -1.8369347 ,  0.31967768, -0.2802152 ,  0.11172647],\n",
       "         [ 0.2531966 ,  1.7662191 , -0.7506769 , -0.5943816 , -0.42108938,\n",
       "           0.6537806 , -1.4200109 , -0.7441311 , -0.19700328, -0.76608783],\n",
       "         [ 0.18567313, -1.2607007 , -1.8428471 ,  0.30624247, -0.33331218,\n",
       "          -0.18451108, -1.6366901 , -1.2380457 ,  0.7198158 , -1.1345124 ],\n",
       "         [-0.3956665 ,  1.4661648 ,  0.17627482,  1.1243846 , -0.09483068,\n",
       "           1.2934656 ,  0.072198  ,  1.2258812 ,  0.0841091 ,  1.773697  ],\n",
       "         [-1.1697875 , -0.03158107,  0.10840329,  0.976869  , -1.9161495 ,\n",
       "           0.06739923, -1.622574  ,  0.4602932 , -0.68671703, -0.26561207],\n",
       "         [ 1.4592036 ,  0.6248542 , -1.6266452 ,  1.5804915 ,  0.6483664 ,\n",
       "           2.2900712 ,  0.04945055, -0.9530272 ,  1.9727066 , -0.5162421 ],\n",
       "         [ 0.4414415 ,  0.00888998,  0.44053817, -2.3040278 ,  0.49434724,\n",
       "          -0.58387434, -1.632378  , -1.2290059 , -0.20852181,  0.5640784 ],\n",
       "         [ 0.10046586,  0.5585321 , -0.9888765 ,  0.66228807,  0.5232349 ,\n",
       "           0.5005303 ,  0.6670524 , -2.3432286 ,  1.9111681 , -0.9155057 ],\n",
       "         [-1.3538066 , -0.07523207,  0.22671667,  0.6894296 , -1.6096866 ,\n",
       "           0.8268021 ,  1.5906996 ,  1.2687197 , -0.09218819, -0.74552155],\n",
       "         [ 0.15873432, -1.2308658 , -0.37530157,  0.21795636,  1.7059568 ,\n",
       "          -0.05184738,  1.3651853 , -0.16092671, -0.94222933, -1.6971982 ],\n",
       "         [ 0.5712462 , -0.18363237, -0.26627216, -0.91346353,  0.79263484,\n",
       "          -0.0770407 ,  0.1924448 ,  1.2392173 ,  0.11183948,  0.21257886],\n",
       "         [ 0.31842953, -1.031462  ,  0.39636102, -0.9354466 ,  0.20935318,\n",
       "           0.42800272,  1.5391065 ,  0.73263663,  0.10258962, -0.9660667 ],\n",
       "         [ 0.23045456,  1.5222869 , -1.0369197 ,  0.5239271 ,  0.72452885,\n",
       "           0.1669208 , -1.2753432 ,  0.68990415, -0.7489847 , -0.29097256],\n",
       "         [-0.26922467, -0.63280183,  0.24881151,  0.577068  ,  0.5605888 ,\n",
       "           0.38111198,  0.61362237, -0.7687807 ,  1.0184906 ,  0.4388392 ],\n",
       "         [-0.46662688,  0.3319071 ,  0.5378794 , -2.4776928 , -0.17986132,\n",
       "          -1.3487098 , -0.7944603 ,  0.48686323, -1.5474744 , -0.6586212 ],\n",
       "         [ 0.8252071 ,  1.1647323 , -1.0839642 , -2.9296565 ,  1.4763534 ,\n",
       "           1.0712336 , -0.944463  , -0.9583084 ,  0.07770199, -0.57858324],\n",
       "         [-0.14104944,  1.0757852 , -1.6175343 , -0.16405222,  1.9696561 ,\n",
       "           2.160718  , -0.4211107 , -0.1413694 , -0.13189466, -0.67341137],\n",
       "         [ 0.77055585, -0.72055876,  0.88246083, -0.25806916, -0.811569  ,\n",
       "           0.49629185,  1.2727104 ,  1.4247178 ,  1.5379493 , -0.20478691],\n",
       "         [-1.1914786 ,  0.05926269,  0.24734904, -0.42482328, -0.19760686,\n",
       "           0.02992167,  1.240093  ,  0.2971836 ,  0.8653217 , -0.11809389],\n",
       "         [-0.14102834, -0.12112145,  0.8831568 ,  1.2403928 ,  0.33509862,\n",
       "           0.44684446, -0.3798512 ,  0.77262026,  0.30372134, -1.9879485 ],\n",
       "         [-0.27601114,  0.81145614,  0.06372839, -0.4556982 , -0.0872464 ,\n",
       "           0.13348968, -0.51455575,  1.3458866 ,  1.0267824 ,  2.2946556 ],\n",
       "         [ 1.2122203 , -1.6160734 , -0.5635395 ,  1.1984098 ,  1.2615135 ,\n",
       "           0.27482435, -0.96135575, -0.45250666, -0.46340555, -2.142267  ],\n",
       "         [-0.9459238 , -0.39740676,  0.02763418,  0.5314915 ,  0.01914119,\n",
       "           0.45596537,  1.0519426 ,  0.15240362,  1.5588195 ,  0.32397515],\n",
       "         [-0.4757829 ,  0.5601911 ,  1.5628842 , -0.6618889 ,  0.9226851 ,\n",
       "           0.34517235, -2.235548  , -0.17524813, -0.09178472, -0.74769175],\n",
       "         [ 0.16479833,  0.6022094 ,  0.4271691 , -1.7613686 ,  0.24913831,\n",
       "          -0.03723213, -0.83449453,  0.47291762, -0.80133146,  0.38376984],\n",
       "         [ 0.92870474,  0.15149786, -0.358495  ,  1.833441  ,  0.08013913,\n",
       "           0.2728122 ,  0.01049193,  0.31179506, -1.442333  ,  1.8902153 ],\n",
       "         [-0.71645576, -0.17985898,  0.4680435 , -0.24005349, -0.6413826 ,\n",
       "           0.01027157,  1.2785658 , -0.04133773,  1.0871353 , -0.07979617],\n",
       "         [ 0.12013721, -0.32609782,  0.62000686,  0.7269733 ,  0.33417463,\n",
       "           0.36685193,  0.09219993, -0.18057123,  0.42726913, -0.5383319 ],\n",
       "         [-0.07493654, -0.55314255,  0.7803537 , -0.43935958, -0.14882672,\n",
       "          -0.38436574, -0.30937183, -0.46843678,  0.8738595 ,  0.05051808],\n",
       "         [-0.9064875 ,  1.1334523 ,  0.45932263,  1.4044595 ,  0.60292566,\n",
       "           1.5141466 , -0.40414706,  0.30843037,  0.9914691 ,  0.15912706],\n",
       "         [-0.8613314 ,  0.91716945, -0.23200649, -0.4862882 ,  0.12377626,\n",
       "           0.11681546, -1.5926336 , -0.71051735, -1.8742768 , -0.53171563],\n",
       "         [-0.8225892 ,  1.2241149 ,  1.2277019 , -0.59328127,  0.35346746,\n",
       "          -0.6318545 ,  0.29558265, -0.83346057, -1.583689  ,  0.1695749 ],\n",
       "         [ 2.3888688 , -0.10430453,  2.1546626 , -2.3833604 ,  0.32763082,\n",
       "          -0.16410346,  0.5784153 , -0.24985534,  0.38405493,  0.37429664],\n",
       "         [ 1.0677413 , -0.43483013,  0.15890834, -0.2583521 , -1.3452771 ,\n",
       "          -0.44041863, -1.1860018 , -2.4392912 , -0.29353392,  1.403467  ],\n",
       "         [-1.4318476 ,  1.1506968 , -1.4106331 ,  0.3898416 , -1.5811129 ,\n",
       "           1.4904921 ,  1.7733232 ,  0.48223013, -0.279104  ,  0.72680396],\n",
       "         [ 0.92295736,  1.9832958 , -0.9351526 ,  1.1520127 , -1.2048866 ,\n",
       "          -0.7122558 ,  0.84537345, -1.233092  ,  0.49630344, -0.251851  ],\n",
       "         [ 0.28763208,  0.5733354 ,  0.6157615 ,  0.01769925, -0.6372055 ,\n",
       "           0.12498504,  1.5154217 ,  0.30920693, -1.2620741 , -0.20676942],\n",
       "         [-1.023899  , -0.8282094 , -0.16633053, -0.17299911, -0.9064167 ,\n",
       "          -0.5054787 ,  0.11446773, -0.6286024 , -1.2190198 ,  0.11569738],\n",
       "         [-1.3140907 ,  0.829228  ,  0.45305258,  1.0468702 , -0.9957429 ,\n",
       "          -0.40711704, -1.4963224 ,  0.00430961, -1.0683736 ,  0.89576477],\n",
       "         [ 0.48127976, -1.525314  ,  0.15826115,  0.3129194 , -1.5754802 ,\n",
       "           0.2465591 , -1.3417367 ,  0.19031774,  0.64514023,  0.44269958],\n",
       "         [-0.66521245,  0.34644327,  0.50817716,  0.6289944 ,  0.68697864,\n",
       "          -0.39130047, -0.54118174, -0.0920815 ,  0.735932  ,  0.8603132 ],\n",
       "         [ 1.6951388 ,  0.65202856,  0.22181989,  0.45937917, -1.021393  ,\n",
       "           1.5803705 ,  2.0809615 , -1.3963454 ,  1.0016514 ,  0.08578363],\n",
       "         [ 1.1400354 , -0.6055955 , -1.8198065 , -0.31228393, -0.51265377,\n",
       "          -1.4354074 , -2.4039757 , -0.5734569 ,  0.9871945 , -0.9953282 ],\n",
       "         [-0.5136763 , -0.20398766, -0.5362331 , -0.63484293,  2.3294425 ,\n",
       "           0.6424913 ,  2.0052028 , -1.4441063 , -1.532469  ,  0.53071386],\n",
       "         [-0.29363775,  0.9191006 ,  0.47641978, -0.40195853,  0.26041725,\n",
       "          -0.24376877,  0.13821933,  1.5350987 ,  0.10250516, -0.34479782],\n",
       "         [ 1.5232304 ,  0.8485088 , -1.2213417 ,  0.26307014,  0.7965408 ,\n",
       "          -0.08076762,  1.1402706 , -1.132     , -0.9898076 , -1.8426111 ],\n",
       "         [-0.72722083, -1.0851065 ,  1.8875133 ,  2.4882152 , -2.3013813 ,\n",
       "          -2.1191618 ,  0.6480539 , -0.5241849 , -0.8861294 ,  1.1314508 ],\n",
       "         [-1.2080553 ,  0.4220617 , -0.87002635,  0.20661855, -1.1617237 ,\n",
       "          -0.7904578 ,  0.13793883, -0.16234677, -2.1377168 , -0.3452581 ],\n",
       "         [ 0.61169416, -1.8211904 ,  0.74257535,  0.6963463 ,  0.3539887 ,\n",
       "          -0.3994738 , -1.1896158 , -0.46513057, -0.13834679, -1.3251314 ],\n",
       "         [ 0.5658691 , -0.1672801 ,  1.2895715 ,  0.79254204, -0.4735861 ,\n",
       "          -1.7743307 , -1.0919166 ,  0.90091753, -1.0030228 , -1.0391481 ],\n",
       "         [-1.3169976 , -2.4400387 ,  0.03757988,  1.9596142 , -0.73050773,\n",
       "          -0.3803582 ,  0.2673655 , -0.6781735 ,  1.0289251 ,  0.3679262 ],\n",
       "         [-0.75639653,  0.03121678,  0.41249454, -0.29429173, -0.19398828,\n",
       "          -0.2679113 ,  2.199204  , -0.7545991 ,  0.935036  , -0.38569522],\n",
       "         [ 0.54251045,  1.0664611 ,  0.18472807,  0.10370014, -0.63410246,\n",
       "           0.1070819 ,  0.4058712 , -0.2841772 ,  0.34135327, -0.4500347 ],\n",
       "         [-0.5168338 ,  2.5205517 ,  1.8584317 ,  1.1319809 , -0.07118977,\n",
       "           0.80545217, -0.16333887,  2.825696  ,  1.0084442 ,  0.40518087],\n",
       "         [-0.23840389, -1.2730348 ,  0.30020055, -0.79892504,  1.0205724 ,\n",
       "           1.9532003 ,  0.9136904 ,  0.1147957 , -0.7030706 ,  0.00996371],\n",
       "         [-0.2122848 ,  0.37929034, -0.36386093,  0.06286045,  0.7467045 ,\n",
       "          -2.2115765 ,  0.9136676 ,  0.8253121 ,  0.10331545, -1.001562  ],\n",
       "         [ 0.7454616 ,  1.3275981 , -1.5114352 ,  0.3913242 , -0.1310895 ,\n",
       "           0.12612352, -0.14610982,  1.6377323 , -0.37877175,  1.0715035 ],\n",
       "         [-0.12107395,  0.6670378 ,  0.06371715, -0.61955154, -1.4417574 ,\n",
       "          -0.4421348 , -0.32256544, -1.4135904 ,  0.16484   , -1.27779   ],\n",
       "         [-1.1505014 ,  0.02791524, -0.546824  , -0.04909971,  1.7032866 ,\n",
       "          -0.41535032, -0.8874318 ,  0.81592274, -1.5917464 , -0.29309338],\n",
       "         [-0.27994192, -1.6396998 ,  1.963626  , -1.0728613 ,  0.00601099,\n",
       "          -0.21854255, -0.90814006, -2.2642314 ,  0.19136098,  0.8869385 ],\n",
       "         [ 2.831354  , -0.01911815, -1.1256933 , -0.8565753 ,  1.3044863 ,\n",
       "          -0.14025244,  1.2761867 , -0.30142573, -1.0459975 ,  1.3857374 ],\n",
       "         [ 1.702241  , -0.72355926, -0.2858088 , -0.72927964, -1.0674179 ,\n",
       "          -0.33813453, -0.85613424, -0.04166901, -0.9779943 , -0.655207  ],\n",
       "         [ 0.05238799,  1.5190842 ,  0.7706672 ,  0.32326797, -0.45560023,\n",
       "          -0.55243266,  0.7761182 , -0.77793306,  1.0640551 , -0.20892505]],\n",
       "        dtype=float32)},\n",
       " {'b1': array([[-1.6036564 ,  0.2889957 ,  1.6779969 , -1.8368785 ,  0.7548987 ,\n",
       "           0.91746724, -1.155585  ,  0.6184359 ,  0.5291861 , -1.1693199 ,\n",
       "          -0.9882452 , -0.9970565 , -0.38435408, -0.75935924, -1.9341538 ,\n",
       "           1.367689  ,  1.0341223 ,  1.6833743 , -0.85537654, -1.0357631 ,\n",
       "           0.12324122,  0.23785892,  0.17784679,  0.54103744,  1.7857236 ,\n",
       "          -2.2625825 , -1.0998588 , -2.546315  , -0.3850687 ,  0.9548015 ,\n",
       "           1.2899994 ,  2.576136  ,  0.09140895,  0.8621666 ,  1.7952043 ,\n",
       "           0.62204367,  0.9056915 ,  0.96393275, -0.88341516, -1.7309616 ,\n",
       "          -0.15834297, -0.3313017 , -1.0967318 , -0.12172259,  1.7609231 ,\n",
       "           0.3476404 , -1.1350873 , -0.5767846 ,  0.6579041 ,  0.884554  ,\n",
       "           0.532459  , -0.27170682,  1.1128724 ,  1.3157398 , -0.01948925,\n",
       "           0.5199976 ,  0.18768834,  0.9015708 , -0.15623806,  0.00902742,\n",
       "          -1.3634664 ,  0.05027078, -0.5692481 ,  0.97084635, -1.3885443 ,\n",
       "          -0.3274214 ,  1.5435821 , -0.33891493, -0.98653746, -0.6433195 ,\n",
       "          -0.52348375,  0.26695752, -0.9441136 ,  2.2775521 ,  0.8584007 ,\n",
       "          -2.4055216 ,  0.07582297,  0.34799483,  1.1274614 , -1.5923836 ,\n",
       "          -1.8142145 ,  0.31614643,  0.4262959 , -1.5211934 , -0.4785979 ,\n",
       "          -0.6494897 ,  0.7881185 , -0.9458753 ,  0.70818496, -0.07646691,\n",
       "          -0.3973322 ,  0.5304068 , -0.39757994,  0.421202  ,  0.00966854,\n",
       "           0.02855952,  1.1258907 ,  0.8599391 ,  1.2835727 , -0.51516885,\n",
       "          -0.07977828, -1.1255755 , -0.92848235,  0.05377356, -1.1288792 ,\n",
       "           0.99646896,  0.92259514,  2.5656974 ,  0.16005555, -0.8697135 ,\n",
       "          -0.5082672 , -0.25422806, -0.1159358 ,  0.7927141 ,  1.8162037 ,\n",
       "           0.49905816,  1.9373639 ,  0.24184974, -1.90729   , -1.5001307 ,\n",
       "           0.9364501 , -0.64392775, -0.33710313, -2.107267  , -2.5264878 ,\n",
       "           0.4754606 ,  0.12887616,  0.4601573 , -1.8425329 ,  0.68122   ,\n",
       "           0.44517553,  1.111581  , -0.48129305,  0.610286  ,  0.3474453 ,\n",
       "          -1.1564391 ,  0.09112766,  1.47752   , -2.331122  ,  0.5308401 ,\n",
       "           0.6272279 ,  1.5765421 , -1.0320795 ,  0.86496425, -0.30432984,\n",
       "          -0.3671709 , -0.5250317 ,  0.14526346,  0.14636469, -0.48038438,\n",
       "           0.09559993,  0.29085648,  0.00619932, -1.4370615 ,  0.87667435,\n",
       "          -1.49982   ,  0.7745003 , -0.7873151 , -0.39933184, -0.48863533,\n",
       "          -0.0585046 ,  0.44008318, -0.8907048 , -0.5196883 ,  1.0674185 ,\n",
       "          -0.12059864, -0.7816655 ,  1.2944878 ,  0.17209138, -0.36908677,\n",
       "           0.6704539 , -0.5732888 , -1.1708956 ,  2.82991   , -0.87293935,\n",
       "          -0.7270506 , -2.3450935 , -0.21397774,  0.24780716, -1.4881852 ,\n",
       "          -0.09147055,  1.1800978 ,  0.7105309 , -0.8162271 , -0.48403162,\n",
       "           1.2717452 ,  0.12917064,  1.8249419 , -0.49593478, -0.19597669,\n",
       "          -0.01176307,  0.40045097, -1.9725891 , -0.82722205,  1.380536  ,\n",
       "          -3.530694  ,  0.4193982 ,  0.50803983, -2.4631882 , -0.62424576,\n",
       "          -1.0580517 ,  0.74683714, -0.01431572,  1.2755643 , -0.24639158,\n",
       "          -0.86677307, -0.17637199,  1.1347597 , -1.3412642 ,  2.174426  ,\n",
       "          -0.53721315,  1.5389731 ,  0.03069451, -0.92904407, -0.06278783,\n",
       "          -2.13729   ,  0.6975441 ,  0.6232517 ,  0.4897433 ,  1.4071163 ,\n",
       "          -0.56762993,  0.31896442, -0.00688652,  0.24766669, -0.07188997,\n",
       "           1.9095641 , -1.4989355 , -2.0744984 ,  0.23012152, -0.8527135 ,\n",
       "           0.4704283 ,  0.04527495, -0.37097073,  0.7633567 , -2.8635793 ,\n",
       "           1.2920325 ,  1.1942734 ,  1.1678722 ,  1.0942905 , -1.3752166 ,\n",
       "           0.1647568 , -1.1533215 , -0.5689565 ,  0.866733  , -1.0059754 ,\n",
       "           0.25580698,  0.6145387 , -0.70074415,  0.91916156,  0.8836101 ,\n",
       "          -0.22335291, -0.20053366, -0.01861806, -0.25930905,  1.0063748 ,\n",
       "          -1.8631889 ]], dtype=float32),\n",
       "  'b2': array([[-3.4652543e-01,  7.4325430e-01,  6.7720455e-01,  1.4165834e+00,\n",
       "           7.9538709e-01,  1.0079254e+00,  4.2264497e-01,  5.1856285e-01,\n",
       "           9.2340249e-01, -8.1742626e-01,  1.0059347e+00, -4.4199082e-01,\n",
       "          -4.3454880e-01, -3.1237943e+00,  1.2784632e+00,  1.4798118e+00,\n",
       "          -1.3289365e+00, -7.1502012e-01, -1.3233088e+00,  5.1821280e-01,\n",
       "           9.7422701e-01, -3.3048698e-01, -1.3727143e+00, -1.7090898e+00,\n",
       "          -2.8140017e-01,  1.8824044e-01,  3.9471132e-01,  8.3760774e-01,\n",
       "          -1.5389771e+00, -1.7088861e+00,  4.7508883e-01, -1.0305191e+00,\n",
       "           8.3927113e-01, -1.1596191e+00, -6.5137878e-02, -6.6683769e-01,\n",
       "          -1.5992956e-01,  1.1801117e-01,  1.1333321e+00,  9.3881160e-01,\n",
       "          -1.6131527e+00, -9.3023008e-01, -6.6009176e-01, -1.8013372e-01,\n",
       "          -1.3411830e-01,  1.6145869e-03,  1.1642762e+00, -1.3559997e+00,\n",
       "          -4.0311733e-01, -2.6496933e+00,  8.8971311e-01,  5.1599061e-01,\n",
       "          -1.7268434e-01,  2.1391718e-01, -5.3473043e-01, -9.1858691e-01,\n",
       "          -3.0202290e-02,  2.5413793e-01,  7.0214397e-01,  2.7141878e-01,\n",
       "          -8.7864894e-01,  1.7642041e+00,  2.1807380e+00, -1.1271108e+00,\n",
       "          -1.1331456e+00,  9.0571427e-01, -3.8793245e-01, -6.6470605e-01,\n",
       "          -1.1638903e-01, -6.8939662e-01,  1.2663350e+00, -5.4082072e-01,\n",
       "          -9.5078903e-01, -7.4422932e-01,  1.1420974e+00, -4.1586006e-01,\n",
       "          -2.3658829e+00,  1.0058771e+00,  1.9885054e+00, -4.7613952e-01,\n",
       "          -8.7469012e-01,  8.8280261e-01, -5.6132197e-01,  9.2360780e-02,\n",
       "           2.2352579e+00, -3.1019509e-01, -1.5275727e-01,  1.1431438e+00,\n",
       "          -4.2147174e-02, -1.4848775e-01,  9.5370036e-01,  1.5837648e+00,\n",
       "           9.2201494e-02, -8.6037689e-01,  5.5219889e-01,  1.0076615e+00,\n",
       "           8.5907465e-01, -1.1800488e+00,  1.4579103e+00, -7.9033542e-01,\n",
       "          -1.3106728e+00, -3.0066794e-01,  1.1620841e+00, -2.5752157e-01,\n",
       "          -7.0894337e-01, -6.4451322e-02,  1.1229020e+00, -8.9689749e-01,\n",
       "          -3.9196512e-01,  1.2245676e-01,  2.2057239e-02, -1.7128040e-01,\n",
       "           2.7598906e-01, -7.9130149e-01, -2.3426715e-01,  1.0139687e+00,\n",
       "          -4.9127221e-01,  5.6226629e-01,  1.6688817e+00,  2.1335208e+00,\n",
       "          -7.3587620e-01, -5.1438731e-01, -4.6843505e-01, -5.5721837e-01,\n",
       "           4.2419288e-02, -4.8690330e-02, -1.3120915e+00, -1.4654750e+00]],\n",
       "        dtype=float32),\n",
       "  'b3': array([[ 1.0459015 ,  1.324069  ,  1.2361195 , -0.1890226 , -1.0408205 ,\n",
       "          -0.41325447, -1.8438052 ,  1.5519818 , -0.01518212,  0.74548596,\n",
       "          -0.74245113,  0.47964227, -0.09718934,  0.33233407,  0.9068809 ,\n",
       "           2.5079725 , -0.4379283 , -0.57808906,  1.2577692 , -1.6953982 ,\n",
       "           0.4124655 , -0.34355983,  0.1827366 ,  0.19205989,  0.00585065,\n",
       "           0.84481525, -0.31247136,  0.02999871, -0.6921891 ,  0.52873284,\n",
       "          -0.75905126, -1.1465715 , -0.92801875, -0.18397866,  0.7275701 ,\n",
       "           0.5893602 , -2.0534005 , -2.0385213 , -3.069347  , -1.8667556 ,\n",
       "           0.622812  , -0.11946706,  0.97948813,  1.4887444 , -0.9265402 ,\n",
       "          -1.7168752 , -1.6865041 ,  2.0098724 , -0.25511912, -1.1482849 ,\n",
       "          -2.9719777 ,  1.6611632 , -1.1680812 , -0.21030511,  0.91502   ,\n",
       "          -0.12362215, -1.8708056 , -0.07902087, -1.258808  ,  0.7201023 ,\n",
       "          -2.283781  ,  0.6533496 ,  1.9391102 ,  0.86315244]],\n",
       "        dtype=float32),\n",
       "  'b4': array([[ 1.4932188 ,  1.6212385 , -1.6249032 ,  0.42879042, -0.16768442,\n",
       "           0.74947816,  0.29963005,  0.2730614 , -1.0129646 ,  0.3314201 ]],\n",
       "        dtype=float32)})"
      ]
     },
     "execution_count": 30,
     "metadata": {},
     "output_type": "execute_result"
    }
   ],
   "source": [
    "W_trained, b_trained"
   ]
  },
  {
   "cell_type": "code",
   "execution_count": 31,
   "metadata": {},
   "outputs": [
    {
     "data": {
      "text/plain": [
       "array([7, 2, 1, ..., 4, 5, 6], dtype=uint8)"
      ]
     },
     "execution_count": 31,
     "metadata": {},
     "output_type": "execute_result"
    }
   ],
   "source": [
    "Y_test"
   ]
  },
  {
   "cell_type": "code",
   "execution_count": 32,
   "metadata": {},
   "outputs": [
    {
     "data": {
      "text/plain": [
       "array([7, 2, 1, ..., 4, 5, 6])"
      ]
     },
     "execution_count": 32,
     "metadata": {},
     "output_type": "execute_result"
    }
   ],
   "source": [
    "Y_pred"
   ]
  },
  {
   "cell_type": "code",
   "execution_count": 34,
   "metadata": {},
   "outputs": [
    {
     "data": {
      "text/plain": [
       "0.9482"
      ]
     },
     "execution_count": 34,
     "metadata": {},
     "output_type": "execute_result"
    }
   ],
   "source": [
    "acc = (Y_pred == Y_test).sum()/Y_test.shape[0]\n",
    "acc"
   ]
  },
  {
   "cell_type": "code",
   "execution_count": null,
   "metadata": {},
   "outputs": [],
   "source": []
  }
 ],
 "metadata": {
  "@webio": {
   "lastCommId": null,
   "lastKernelId": null
  },
  "kernelspec": {
   "display_name": "Python 3",
   "language": "python",
   "name": "python3"
  },
  "language_info": {
   "codemirror_mode": {
    "name": "ipython",
    "version": 3
   },
   "file_extension": ".py",
   "mimetype": "text/x-python",
   "name": "python",
   "nbconvert_exporter": "python",
   "pygments_lexer": "ipython3",
   "version": "3.7.4"
  },
  "toc": {
   "base_numbering": 1,
   "nav_menu": {},
   "number_sections": true,
   "sideBar": true,
   "skip_h1_title": false,
   "title_cell": "Table of Contents",
   "title_sidebar": "Contents",
   "toc_cell": false,
   "toc_position": {},
   "toc_section_display": true,
   "toc_window_display": false
  },
  "varInspector": {
   "cols": {
    "lenName": 16,
    "lenType": 16,
    "lenVar": 40
   },
   "kernels_config": {
    "python": {
     "delete_cmd_postfix": "",
     "delete_cmd_prefix": "del ",
     "library": "var_list.py",
     "varRefreshCmd": "print(var_dic_list())"
    },
    "r": {
     "delete_cmd_postfix": ") ",
     "delete_cmd_prefix": "rm(",
     "library": "var_list.r",
     "varRefreshCmd": "cat(var_dic_list()) "
    }
   },
   "types_to_exclude": [
    "module",
    "function",
    "builtin_function_or_method",
    "instance",
    "_Feature"
   ],
   "window_display": false
  }
 },
 "nbformat": 4,
 "nbformat_minor": 2
}
